{
 "cells": [
  {
   "cell_type": "markdown",
   "metadata": {},
   "source": [
    "# Challenge: Getting data from COVID Tracking Project API\n",
    "Explore the [COVID Tracking Project API](https://covidtracking.com/data/api) page."
   ]
  },
  {
   "cell_type": "markdown",
   "metadata": {},
   "source": [
    "## Part 1: Import requests package\n",
    "PS: If you have already pip installed the package during lecture, then you do not have to repeat this step here."
   ]
  },
  {
   "cell_type": "code",
   "execution_count": null,
   "metadata": {},
   "outputs": [],
   "source": [
    "import requests"
   ]
  },
  {
   "cell_type": "markdown",
   "metadata": {},
   "source": [
    "## Part 2: Print every state postal code and the number of positive cases in that state. For e.g. 'TX, 120', etc. \n",
    "Make sure you're looking at the endpoint where data is in the **.json** format"
   ]
  },
  {
   "cell_type": "code",
   "execution_count": null,
   "metadata": {},
   "outputs": [],
   "source": [
    "response = requests.get('https://api.covidtracking.com/v1/states/current.json')\n",
    "states = response.json()\n",
    "\n",
    "for state in states:\n",
    "    print(f'{state[\"state\"]}, {state[\"positive\"]}')"
   ]
  },
  {
   "cell_type": "markdown",
   "metadata": {},
   "source": [
    "## Part 3: Use the 'chosen_state' variable to look up a state's number of current hospitalizations \n",
    "Make sure you're looking at the endpoint where data is in the **.json** format"
   ]
  },
  {
   "cell_type": "code",
   "execution_count": null,
   "metadata": {},
   "outputs": [],
   "source": [
    "chosen_state = str(input('Choose a state (use postal code): ')).lower()"
   ]
  },
  {
   "cell_type": "code",
   "execution_count": null,
   "metadata": {},
   "outputs": [],
   "source": [
    "url = f'https://covidtracking.com/api/v1/states/{chosen_state}/current.json'\n",
    "\n",
    "response = requests.get(url)\n",
    "data = response.json()\n",
    "\n",
    "print(data['hospitalizedCurrently'])"
   ]
  }
 ],
 "metadata": {
  "kernelspec": {
   "display_name": "Python 3",
   "language": "python",
   "name": "python3"
  },
  "language_info": {
   "codemirror_mode": {
    "name": "ipython",
    "version": 3
   },
   "file_extension": ".py",
   "mimetype": "text/x-python",
   "name": "python",
   "nbconvert_exporter": "python",
   "pygments_lexer": "ipython3",
   "version": "3.7.6"
  }
 },
 "nbformat": 4,
 "nbformat_minor": 2
}
