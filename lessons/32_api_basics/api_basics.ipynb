{
 "cells": [
  {
   "cell_type": "markdown",
   "metadata": {},
   "source": [
    "# Connecting to other data sources\n",
    "\n",
    "In previous lessons, we have learned to use data imported from csv files. The data collected in csv files are put together and made available to the public. Today we will learn another way to access data called **APIs**. Let's cover a few definitions first:"
   ]
  },
  {
   "cell_type": "markdown",
   "metadata": {},
   "source": [
    "# What is an API?\n",
    "An API, or Application Programming Interface are set of commands that one software can use to interact with another software without having to know it's internal logic. \n",
    "\n",
    "For example, in the context of the pandas library, using the API means using data structures like **DataFrame**, **Series** and functions like **read_csv**. These are parts of the pandas library exposed or made available to us for use while their implementation details are hidden from us. \n",
    "\n",
    "Similarly, APIs also help us interact with servers over the internet to retrieve and send data. You will often hear the term API used interchangeably to describe this interaction. To understand this interaction, we need to look at how the web works."
   ]
  },
  {
   "cell_type": "markdown",
   "metadata": {},
   "source": [
    "# The internet\n",
    "Visiting a website involves the web browser making multiple **requests** for resources like data, HTML pages, scripts, images, etc from servers. This system of exchanging data is enabled by the **HTTP** protocol. \n",
    "\n",
    "Using APIs to interact with servers is similar to visiting a website, we make requests for data to a server and the server responds with data over **HTTP**."
   ]
  },
  {
   "cell_type": "markdown",
   "metadata": {},
   "source": [
    "![](https://media.prod.mdn.mozit.cloud/attachments/2016/08/09/13677/d031b77dee83f372ffa4e0389d68108b/Fetching_a_page.png)"
   ]
  },
  {
   "cell_type": "markdown",
   "metadata": {},
   "source": [
    "# Demo 1: Making a web request"
   ]
  },
  {
   "cell_type": "markdown",
   "metadata": {},
   "source": [
    "We will be using a popular HTTP library called **requests** that helps Python users make web requests easily. "
   ]
  },
  {
   "cell_type": "code",
   "execution_count": null,
   "metadata": {},
   "outputs": [],
   "source": [
    "!pip install requests"
   ]
  },
  {
   "cell_type": "code",
   "execution_count": null,
   "metadata": {},
   "outputs": [],
   "source": [
    "import requests"
   ]
  },
  {
   "cell_type": "code",
   "execution_count": null,
   "metadata": {},
   "outputs": [],
   "source": [
    "response = requests.get('https://www.google.com')"
   ]
  },
  {
   "cell_type": "markdown",
   "metadata": {},
   "source": [
    "Using **requests.get()** we just made a request for the Google web page like a web browser when you type in the URL in the address bar."
   ]
  },
  {
   "cell_type": "code",
   "execution_count": null,
   "metadata": {},
   "outputs": [],
   "source": [
    "response.text"
   ]
  },
  {
   "cell_type": "markdown",
   "metadata": {},
   "source": [
    "Printing **response.text** reveals the HTML code of Google web page."
   ]
  },
  {
   "cell_type": "markdown",
   "metadata": {},
   "source": [
    "# Demo 2: Getting jobs data using Github Jobs API\n",
    "\n",
    "We can also make requests for specific data. Let's explore the [**Github Jobs API**](https://jobs.github.com/api) page. \n",
    "- The API page contains instructions to get jobs data using their API.\n",
    "- Examples show the URL can be manipulated to get specific data back."
   ]
  },
  {
   "cell_type": "markdown",
   "metadata": {},
   "source": [
    "# Building the request"
   ]
  },
  {
   "cell_type": "markdown",
   "metadata": {},
   "source": [
    "### URL"
   ]
  },
  {
   "cell_type": "markdown",
   "metadata": {},
   "source": [
    "URL/route/endpoint are used to specify the resource being requested. In this case, we get job positions that contain **Python** in the description and based in **New York**"
   ]
  },
  {
   "cell_type": "code",
   "execution_count": null,
   "metadata": {},
   "outputs": [],
   "source": [
    "url = 'https://jobs.github.com/positions.json?description=python&location=new+york'"
   ]
  },
  {
   "cell_type": "markdown",
   "metadata": {},
   "source": [
    "### Request Method or HTTP Verb"
   ]
  },
  {
   "cell_type": "code",
   "execution_count": null,
   "metadata": {},
   "outputs": [],
   "source": [
    "response = requests.get(url)"
   ]
  },
  {
   "cell_type": "markdown",
   "metadata": {},
   "source": [
    "The **.get()** function doesn't refer to the verb in the english language but something called an **HTTP Verb**. HTTP defines a set of request methods to indicate the desired action to be performed for a given resource. A few popular ones are **GET, POST , PUT  and  DELETE**. \n",
    "\n",
    "More on HTTP Verbs [here](https://developer.mozilla.org/en-US/docs/Web/HTTP/Methods)."
   ]
  },
  {
   "cell_type": "markdown",
   "metadata": {},
   "source": [
    "# Reading the response"
   ]
  },
  {
   "cell_type": "markdown",
   "metadata": {},
   "source": [
    "### HTTP Response Status Code"
   ]
  },
  {
   "cell_type": "markdown",
   "metadata": {},
   "source": [
    "The server response always includes HTTP response status code. They indicate whether a specific HTTP request has been successfully completed. Responses are grouped in five classes:\n",
    "- `100–199` Informational responses,\n",
    "- `200–299` Successful responses,\n",
    "- `300–399` Redirects,\n",
    "- `400–499` Client errors,\n",
    "- `500–599` and Server errors"
   ]
  },
  {
   "cell_type": "code",
   "execution_count": null,
   "metadata": {},
   "outputs": [],
   "source": [
    "response.status_code"
   ]
  },
  {
   "cell_type": "markdown",
   "metadata": {},
   "source": [
    "We got a 200 status code, which means the server responded to our request for data successfully!"
   ]
  },
  {
   "cell_type": "markdown",
   "metadata": {},
   "source": [
    "### JSON\n",
    "\n",
    "The response text contains the data. However, it is in a format called JSON (JavaScript Object Notation), which is a common way to represent data sent over a network. It is programming language agnostic, which means requests from  applications built in different programming languages can receive and use it."
   ]
  },
  {
   "cell_type": "code",
   "execution_count": null,
   "metadata": {},
   "outputs": [],
   "source": [
    "response.text"
   ]
  },
  {
   "cell_type": "code",
   "execution_count": null,
   "metadata": {},
   "outputs": [],
   "source": [
    "type(response.text)"
   ]
  },
  {
   "cell_type": "markdown",
   "metadata": {},
   "source": [
    "Let's convert the JSON into Python data structures"
   ]
  },
  {
   "cell_type": "code",
   "execution_count": null,
   "metadata": {},
   "outputs": [],
   "source": [
    "jobs = response.json()\n",
    "type(jobs)"
   ]
  },
  {
   "cell_type": "markdown",
   "metadata": {},
   "source": [
    "Now can traverse the output safely"
   ]
  },
  {
   "cell_type": "code",
   "execution_count": null,
   "metadata": {},
   "outputs": [],
   "source": [
    "for job in jobs:\n",
    "   print(job['title'])"
   ]
  },
  {
   "cell_type": "code",
   "execution_count": null,
   "metadata": {},
   "outputs": [],
   "source": []
  },
  {
   "cell_type": "markdown",
   "metadata": {},
   "source": [
    "# Demo 3: Getting TV show data from TVMAZE API\n",
    "Let's explore the [TV MAZE API](http://www.tvmaze.com/api) page.\n",
    "### Finding the names of all episodes of 'Seinfeld'\n"
   ]
  },
  {
   "cell_type": "markdown",
   "metadata": {},
   "source": [
    "First we need to find the **id** of the show. Let's use the 'Show search' endpoint to get it."
   ]
  },
  {
   "cell_type": "code",
   "execution_count": null,
   "metadata": {},
   "outputs": [],
   "source": [
    "search_response = requests.get('http://api.tvmaze.com/search/shows?q=seinfeld')\n",
    "seinfeld_data = search_response.json()\n",
    "seinfeld_id = seinfeld_data[0]['show']['id']"
   ]
  },
  {
   "cell_type": "markdown",
   "metadata": {},
   "source": [
    "Now that we have the **id** we can use the 'Show episode list' endpoint."
   ]
  },
  {
   "cell_type": "code",
   "execution_count": null,
   "metadata": {},
   "outputs": [],
   "source": [
    "episodes_url = f'http://api.tvmaze.com/shows/{seinfeld_id}/episodes'\n",
    "\n",
    "episodes_response = requests.get(episodes_url)\n",
    "episodes = episodes_response.json()\n",
    "\n",
    "for episode in episodes:\n",
    "    print(episode['name'])"
   ]
  }
 ],
 "metadata": {
  "kernelspec": {
   "display_name": "Python 3",
   "language": "python",
   "name": "python3"
  },
  "language_info": {
   "codemirror_mode": {
    "name": "ipython",
    "version": 3
   },
   "file_extension": ".py",
   "mimetype": "text/x-python",
   "name": "python",
   "nbconvert_exporter": "python",
   "pygments_lexer": "ipython3",
   "version": "3.7.6"
  }
 },
 "nbformat": 4,
 "nbformat_minor": 2
}
